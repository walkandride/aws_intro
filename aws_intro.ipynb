{
 "cells": [
  {
   "cell_type": "markdown",
   "metadata": {},
   "source": [
    "# Infrastructure As Code"
   ]
  },
  {
   "cell_type": "code",
   "execution_count": 2,
   "metadata": {},
   "outputs": [],
   "source": [
    "import pandas as pd\n",
    "import boto3\n",
    "import json\n",
    "import psycopg2\n",
    "import configparser"
   ]
  },
  {
   "cell_type": "markdown",
   "metadata": {},
   "source": [
    "## STEP 0: Make sure you have an AWS secret and access key\n",
    "\n",
    "- Create a new IAM user in your AWS account\n",
    "- Give it `AdministratorAccess`, From `Attach existing policies directly` Tab\n",
    "- Take note of the access key and secret \n",
    "- Create the below file `aws.cfg` in the same folder as this notebook and fill the [AWS] section.\n",
    "\n",
    "\n",
    "        # Filename:  aws.cfg\n",
    "        [AWS]\n",
    "        KEY=[YOUR_AWS_KEY]\n",
    "        SECRET=[YOUR_AWS_SECRET]\n",
    "        REGION=[YOUR REGION]\n",
    "\n",
    "        [DWH] \n",
    "        DWH_CLUSTER_TYPE=multi-node\n",
    "        DWH_NUM_NODES=4\n",
    "        DWH_NODE_TYPE=dc2.large\n",
    "\n",
    "        DWH_IAM_ROLE_NAME=dwhRole\n",
    "        DWH_CLUSTER_IDENTIFIER=dwhCluster\n",
    "        DWH_DB=dwh\n",
    "        DWH_DB_USER=dwhuser\n",
    "        DWH_DB_PASSWORD=Passw0rd\n",
    "        DWH_PORT=5439\n",
    "\n",
    "        [CLUSTER]\n",
    "        # HOST=dwhcluster.cauecn2rh1z6.us-east-1.redshift.amazonaws.com\n",
    "        HOST=dwhcluster.cchtxpodhmfa.us-west-2.redshift.amazonaws.com\n",
    "        DB_NAME=dwh\n",
    "        DB_USER=dwhuser\n",
    "        DB_PASSWORD=Passw0rd\n",
    "        DB_PORT=5439\n",
    "\n",
    "        [IAM_ROLE]\n",
    "        ARN=[REDACTED]\n",
    "\n",
    "        [S3]\n",
    "        LOG_DATA='s3://udacity-dend/log_data'\n",
    "        LOG_JSONPATH='s3://udacity-dend/log_json_path.json'\n",
    "        # fails on east cluster\n",
    "        SONG_DATA='s3://udacity-dend/song-data'\n",
    "        # use for testing\n",
    "        # (56 sec, east; 23.6 west) \n",
    "        # SONG_DATA='s3://udacity-dend/song-data/A/A/'\n",
    "        # (1379.746524 sec, east; 265.13, west) \n",
    "        # SONG_DATA='s3://udacity-dend/song-data/A/'\n",
    "\n",
    "        [PARSE]\n",
    "        # Set to 1 to parse files first and identify errors; 0 to process records\n",
    "        VALUE=0\n"
   ]
  },
  {
   "cell_type": "markdown",
   "metadata": {},
   "source": [
    "## Create Redshift Cluster using the AWS Python SDK"
   ]
  },
  {
   "cell_type": "code",
   "execution_count": null,
   "metadata": {},
   "outputs": [],
   "source": [
    "### Load DWH Params from file"
   ]
  },
  {
   "cell_type": "code",
   "execution_count": 18,
   "metadata": {},
   "outputs": [
    {
     "output_type": "stream",
     "name": "stdout",
     "text": "us-west-2\n"
    }
   ],
   "source": [
    "config = configparser.ConfigParser()\n",
    "config.read_file(open('aws.cfg'))\n",
    "\n",
    "KEY                    = config.get('AWS','KEY')\n",
    "SECRET                 = config.get('AWS','SECRET')\n",
    "REGION                 = config.get('AWS','REGION')\n",
    "\n",
    "DWH_CLUSTER_TYPE       = config.get(\"DWH\",\"DWH_CLUSTER_TYPE\")\n",
    "DWH_NUM_NODES          = config.get(\"DWH\",\"DWH_NUM_NODES\")\n",
    "DWH_NODE_TYPE          = config.get(\"DWH\",\"DWH_NODE_TYPE\")\n",
    "\n",
    "DWH_CLUSTER_IDENTIFIER = config.get(\"DWH\",\"DWH_CLUSTER_IDENTIFIER\")\n",
    "DWH_DB                 = config.get(\"DWH\",\"DWH_DB\")\n",
    "DWH_DB_USER            = config.get(\"DWH\",\"DWH_DB_USER\")\n",
    "DWH_DB_PASSWORD        = config.get(\"DWH\",\"DWH_DB_PASSWORD\")\n",
    "DWH_PORT               = config.get(\"DWH\",\"DWH_PORT\")\n",
    "\n",
    "DWH_IAM_ROLE_NAME      = config.get(\"DWH\", \"DWH_IAM_ROLE_NAME\")\n",
    "\n",
    "(DWH_DB_USER, DWH_DB_PASSWORD, DWH_DB)\n",
    "\n",
    "pd.DataFrame({\"Param\":\n",
    "                  [\"DWH_CLUSTER_TYPE\"\n",
    "                  , \"DWH_NUM_NODES\"\n",
    "                  , \"DWH_NODE_TYPE\"\n",
    "                  , \"DWH_CLUSTER_IDENTIFIER\"\n",
    "                  , \"DWH_DB\"\n",
    "                  , \"DWH_DB_USER\"\n",
    "                  , \"DWH_DB_PASSWORD\"\n",
    "                  , \"DWH_PORT\"\n",
    "                  , \"DWH_IAM_ROLE_NAME\"]\n",
    "                  , \"Value\": \n",
    "                    [DWH_CLUSTER_TYPE\n",
    "                    , DWH_NUM_NODES\n",
    "                    , DWH_NODE_TYPE\n",
    "                    , DWH_CLUSTER_IDENTIFIER\n",
    "                    , DWH_DB\n",
    "                    , DWH_DB_USER\n",
    "                    , DWH_DB_PASSWORD\n",
    "                    , DWH_PORT\n",
    "                    , DWH_IAM_ROLE_NAME]\n",
    "             })\n",
    "\n",
    "print(REGION)"
   ]
  },
  {
   "cell_type": "markdown",
   "metadata": {},
   "source": [
    "## Create clients for IAM, EC2, S3 and Redshift"
   ]
  },
  {
   "cell_type": "code",
   "execution_count": 19,
   "metadata": {},
   "outputs": [],
   "source": [
    "s3 = boto3.resource('s3'\n",
    "                        , region_name=REGION\n",
    "                        , aws_access_key_id=KEY\n",
    "                        , aws_secret_access_key=SECRET\n",
    "                   )\n",
    "\n",
    "ec2 = boto3.resource('ec2'\n",
    "                        , region_name=REGION\n",
    "                        , aws_access_key_id=KEY\n",
    "                        , aws_secret_access_key=SECRET\n",
    "                    )\n",
    "\n",
    "iam = boto3.client('iam'\n",
    "                        ,aws_access_key_id=KEY\n",
    "                        , aws_secret_access_key=SECRET\n",
    "                        , region_name=REGION\n",
    "                  )\n",
    "\n",
    "redshift = boto3.client('redshift'\n",
    "                        , region_name=REGION\n",
    "                        , aws_access_key_id=KEY\n",
    "                        , aws_secret_access_key=SECRET\n",
    "                       )"
   ]
  },
  {
   "cell_type": "code",
   "execution_count": 16,
   "metadata": {},
   "outputs": [],
   "source": [
    "### Verify S3 connection- check out sample data sources on S3"
   ]
  },
  {
   "cell_type": "code",
   "execution_count": 34,
   "metadata": {},
   "outputs": [
    {
     "output_type": "stream",
     "name": "stdout",
     "text": "s3.ObjectSummary(bucket_name='awssampledbuswest2', key='ssbgz/')\ns3.ObjectSummary(bucket_name='awssampledbuswest2', key='ssbgz/customer0002_part_00.gz')\ns3.ObjectSummary(bucket_name='awssampledbuswest2', key='ssbgz/dwdate.tbl.gz')\ns3.ObjectSummary(bucket_name='awssampledbuswest2', key='ssbgz/lineorder0000_part_00.gz')\ns3.ObjectSummary(bucket_name='awssampledbuswest2', key='ssbgz/lineorder0001_part_00.gz')\ns3.ObjectSummary(bucket_name='awssampledbuswest2', key='ssbgz/lineorder0002_part_00.gz')\ns3.ObjectSummary(bucket_name='awssampledbuswest2', key='ssbgz/lineorder0003_part_00.gz')\ns3.ObjectSummary(bucket_name='awssampledbuswest2', key='ssbgz/lineorder0004_part_00.gz')\ns3.ObjectSummary(bucket_name='awssampledbuswest2', key='ssbgz/lineorder0005_part_00.gz')\ns3.ObjectSummary(bucket_name='awssampledbuswest2', key='ssbgz/lineorder0006_part_00.gz')\ns3.ObjectSummary(bucket_name='awssampledbuswest2', key='ssbgz/lineorder0007_part_00.gz')\ns3.ObjectSummary(bucket_name='awssampledbuswest2', key='ssbgz/part0000_part_00.gz')\ns3.ObjectSummary(bucket_name='awssampledbuswest2', key='ssbgz/part0001_part_00.gz')\ns3.ObjectSummary(bucket_name='awssampledbuswest2', key='ssbgz/part0002_part_00.gz')\ns3.ObjectSummary(bucket_name='awssampledbuswest2', key='ssbgz/part0003_part_00.gz')\ns3.ObjectSummary(bucket_name='awssampledbuswest2', key='ssbgz/supplier.tbl_0000_part_00.gz')\ns3.ObjectSummary(bucket_name='awssampledbuswest2', key='ssbgz/supplier0001_part_00.gz')\ns3.ObjectSummary(bucket_name='awssampledbuswest2', key='ssbgz/supplier0002_part_00.gz')\ns3.ObjectSummary(bucket_name='awssampledbuswest2', key='ssbgz/supplier0003_part_00.gz')\n"
    }
   ],
   "source": [
    "sampleDbBucket =  s3.Bucket(\"awssampledbuswest2\")\n",
    "for obj in sampleDbBucket.objects.filter(Prefix=\"ssbgz\"):\n",
    "    print(obj)"
   ]
  },
  {
   "cell_type": "code",
   "execution_count": 37,
   "metadata": {
    "tags": [
     "outputPrepend"
    ]
   },
   "outputs": [
    {
     "output_type": "stream",
     "name": "stdout",
     "text": " key='parquet/product_category=PC/part-00005-495c48e6-96d6-4650-aa65-3c36a3516ddd.c000.snappy.parquet')\ns3.ObjectSummary(bucket_name='amazon-reviews-pds', key='parquet/product_category=PC/part-00006-495c48e6-96d6-4650-aa65-3c36a3516ddd.c000.snappy.parquet')\ns3.ObjectSummary(bucket_name='amazon-reviews-pds', key='parquet/product_category=PC/part-00007-495c48e6-96d6-4650-aa65-3c36a3516ddd.c000.snappy.parquet')\ns3.ObjectSummary(bucket_name='amazon-reviews-pds', key='parquet/product_category=PC/part-00008-495c48e6-96d6-4650-aa65-3c36a3516ddd.c000.snappy.parquet')\ns3.ObjectSummary(bucket_name='amazon-reviews-pds', key='parquet/product_category=PC/part-00009-495c48e6-96d6-4650-aa65-3c36a3516ddd.c000.snappy.parquet')\ns3.ObjectSummary(bucket_name='amazon-reviews-pds', key='parquet/product_category=Personal_Care_Appliances/part-00000-495c48e6-96d6-4650-aa65-3c36a3516ddd.c000.snappy.parquet')\ns3.ObjectSummary(bucket_name='amazon-reviews-pds', key='parquet/product_category=Personal_Care_Appliances/part-00001-495c48e6-96d6-4650-aa65-3c36a3516ddd.c000.snappy.parquet')\ns3.ObjectSummary(bucket_name='amazon-reviews-pds', key='parquet/product_category=Personal_Care_Appliances/part-00002-495c48e6-96d6-4650-aa65-3c36a3516ddd.c000.snappy.parquet')\ns3.ObjectSummary(bucket_name='amazon-reviews-pds', key='parquet/product_category=Personal_Care_Appliances/part-00003-495c48e6-96d6-4650-aa65-3c36a3516ddd.c000.snappy.parquet')\ns3.ObjectSummary(bucket_name='amazon-reviews-pds', key='parquet/product_category=Personal_Care_Appliances/part-00004-495c48e6-96d6-4650-aa65-3c36a3516ddd.c000.snappy.parquet')\ns3.ObjectSummary(bucket_name='amazon-reviews-pds', key='parquet/product_category=Personal_Care_Appliances/part-00005-495c48e6-96d6-4650-aa65-3c36a3516ddd.c000.snappy.parquet')\ns3.ObjectSummary(bucket_name='amazon-reviews-pds', key='parquet/product_category=Personal_Care_Appliances/part-00006-495c48e6-96d6-4650-aa65-3c36a3516ddd.c000.snappy.parquet')\ns3.ObjectSummary(bucket_name='amazon-reviews-pds', key='parquet/product_category=Personal_Care_Appliances/part-00007-495c48e6-96d6-4650-aa65-3c36a3516ddd.c000.snappy.parquet')\ns3.ObjectSummary(bucket_name='amazon-reviews-pds', key='parquet/product_category=Personal_Care_Appliances/part-00008-495c48e6-96d6-4650-aa65-3c36a3516ddd.c000.snappy.parquet')\ns3.ObjectSummary(bucket_name='amazon-reviews-pds', key='parquet/product_category=Personal_Care_Appliances/part-00009-495c48e6-96d6-4650-aa65-3c36a3516ddd.c000.snappy.parquet')\ns3.ObjectSummary(bucket_name='amazon-reviews-pds', key='parquet/product_category=Pet_Products/part-00000-495c48e6-96d6-4650-aa65-3c36a3516ddd.c000.snappy.parquet')\ns3.ObjectSummary(bucket_name='amazon-reviews-pds', key='parquet/product_category=Pet_Products/part-00001-495c48e6-96d6-4650-aa65-3c36a3516ddd.c000.snappy.parquet')\ns3.ObjectSummary(bucket_name='amazon-reviews-pds', key='parquet/product_category=Pet_Products/part-00002-495c48e6-96d6-4650-aa65-3c36a3516ddd.c000.snappy.parquet')\ns3.ObjectSummary(bucket_name='amazon-reviews-pds', key='parquet/product_category=Pet_Products/part-00003-495c48e6-96d6-4650-aa65-3c36a3516ddd.c000.snappy.parquet')\ns3.ObjectSummary(bucket_name='amazon-reviews-pds', key='parquet/product_category=Pet_Products/part-00004-495c48e6-96d6-4650-aa65-3c36a3516ddd.c000.snappy.parquet')\ns3.ObjectSummary(bucket_name='amazon-reviews-pds', key='parquet/product_category=Pet_Products/part-00005-495c48e6-96d6-4650-aa65-3c36a3516ddd.c000.snappy.parquet')\ns3.ObjectSummary(bucket_name='amazon-reviews-pds', key='parquet/product_category=Pet_Products/part-00006-495c48e6-96d6-4650-aa65-3c36a3516ddd.c000.snappy.parquet')\ns3.ObjectSummary(bucket_name='amazon-reviews-pds', key='parquet/product_category=Pet_Products/part-00007-495c48e6-96d6-4650-aa65-3c36a3516ddd.c000.snappy.parquet')\ns3.ObjectSummary(bucket_name='amazon-reviews-pds', key='parquet/product_category=Pet_Products/part-00008-495c48e6-96d6-4650-aa65-3c36a3516ddd.c000.snappy.parquet')\ns3.ObjectSummary(bucket_name='amazon-reviews-pds', key='parquet/product_category=Pet_Products/part-00009-495c48e6-96d6-4650-aa65-3c36a3516ddd.c000.snappy.parquet')\ns3.ObjectSummary(bucket_name='amazon-reviews-pds', key='parquet/product_category=Shoes/part-00000-495c48e6-96d6-4650-aa65-3c36a3516ddd.c000.snappy.parquet')\ns3.ObjectSummary(bucket_name='amazon-reviews-pds', key='parquet/product_category=Shoes/part-00001-495c48e6-96d6-4650-aa65-3c36a3516ddd.c000.snappy.parquet')\ns3.ObjectSummary(bucket_name='amazon-reviews-pds', key='parquet/product_category=Shoes/part-00002-495c48e6-96d6-4650-aa65-3c36a3516ddd.c000.snappy.parquet')\ns3.ObjectSummary(bucket_name='amazon-reviews-pds', key='parquet/product_category=Shoes/part-00003-495c48e6-96d6-4650-aa65-3c36a3516ddd.c000.snappy.parquet')\ns3.ObjectSummary(bucket_name='amazon-reviews-pds', key='parquet/product_category=Shoes/part-00004-495c48e6-96d6-4650-aa65-3c36a3516ddd.c000.snappy.parquet')\ns3.ObjectSummary(bucket_name='amazon-reviews-pds', key='parquet/product_category=Shoes/part-00005-495c48e6-96d6-4650-aa65-3c36a3516ddd.c000.snappy.parquet')\ns3.ObjectSummary(bucket_name='amazon-reviews-pds', key='parquet/product_category=Shoes/part-00006-495c48e6-96d6-4650-aa65-3c36a3516ddd.c000.snappy.parquet')\ns3.ObjectSummary(bucket_name='amazon-reviews-pds', key='parquet/product_category=Shoes/part-00007-495c48e6-96d6-4650-aa65-3c36a3516ddd.c000.snappy.parquet')\ns3.ObjectSummary(bucket_name='amazon-reviews-pds', key='parquet/product_category=Shoes/part-00008-495c48e6-96d6-4650-aa65-3c36a3516ddd.c000.snappy.parquet')\ns3.ObjectSummary(bucket_name='amazon-reviews-pds', key='parquet/product_category=Shoes/part-00009-495c48e6-96d6-4650-aa65-3c36a3516ddd.c000.snappy.parquet')\ns3.ObjectSummary(bucket_name='amazon-reviews-pds', key='parquet/product_category=Software/part-00000-495c48e6-96d6-4650-aa65-3c36a3516ddd.c000.snappy.parquet')\ns3.ObjectSummary(bucket_name='amazon-reviews-pds', key='parquet/product_category=Software/part-00001-495c48e6-96d6-4650-aa65-3c36a3516ddd.c000.snappy.parquet')\ns3.ObjectSummary(bucket_name='amazon-reviews-pds', key='parquet/product_category=Software/part-00002-495c48e6-96d6-4650-aa65-3c36a3516ddd.c000.snappy.parquet')\ns3.ObjectSummary(bucket_name='amazon-reviews-pds', key='parquet/product_category=Software/part-00003-495c48e6-96d6-4650-aa65-3c36a3516ddd.c000.snappy.parquet')\ns3.ObjectSummary(bucket_name='amazon-reviews-pds', key='parquet/product_category=Software/part-00004-495c48e6-96d6-4650-aa65-3c36a3516ddd.c000.snappy.parquet')\ns3.ObjectSummary(bucket_name='amazon-reviews-pds', key='parquet/product_category=Software/part-00005-495c48e6-96d6-4650-aa65-3c36a3516ddd.c000.snappy.parquet')\ns3.ObjectSummary(bucket_name='amazon-reviews-pds', key='parquet/product_category=Software/part-00006-495c48e6-96d6-4650-aa65-3c36a3516ddd.c000.snappy.parquet')\ns3.ObjectSummary(bucket_name='amazon-reviews-pds', key='parquet/product_category=Software/part-00007-495c48e6-96d6-4650-aa65-3c36a3516ddd.c000.snappy.parquet')\ns3.ObjectSummary(bucket_name='amazon-reviews-pds', key='parquet/product_category=Software/part-00008-495c48e6-96d6-4650-aa65-3c36a3516ddd.c000.snappy.parquet')\ns3.ObjectSummary(bucket_name='amazon-reviews-pds', key='parquet/product_category=Software/part-00009-495c48e6-96d6-4650-aa65-3c36a3516ddd.c000.snappy.parquet')\ns3.ObjectSummary(bucket_name='amazon-reviews-pds', key='parquet/product_category=Sports/part-00000-495c48e6-96d6-4650-aa65-3c36a3516ddd.c000.snappy.parquet')\ns3.ObjectSummary(bucket_name='amazon-reviews-pds', key='parquet/product_category=Sports/part-00001-495c48e6-96d6-4650-aa65-3c36a3516ddd.c000.snappy.parquet')\ns3.ObjectSummary(bucket_name='amazon-reviews-pds', key='parquet/product_category=Sports/part-00002-495c48e6-96d6-4650-aa65-3c36a3516ddd.c000.snappy.parquet')\ns3.ObjectSummary(bucket_name='amazon-reviews-pds', key='parquet/product_category=Sports/part-00003-495c48e6-96d6-4650-aa65-3c36a3516ddd.c000.snappy.parquet')\ns3.ObjectSummary(bucket_name='amazon-reviews-pds', key='parquet/product_category=Sports/part-00004-495c48e6-96d6-4650-aa65-3c36a3516ddd.c000.snappy.parquet')\ns3.ObjectSummary(bucket_name='amazon-reviews-pds', key='parquet/product_category=Sports/part-00005-495c48e6-96d6-4650-aa65-3c36a3516ddd.c000.snappy.parquet')\ns3.ObjectSummary(bucket_name='amazon-reviews-pds', key='parquet/product_category=Sports/part-00006-495c48e6-96d6-4650-aa65-3c36a3516ddd.c000.snappy.parquet')\ns3.ObjectSummary(bucket_name='amazon-reviews-pds', key='parquet/product_category=Sports/part-00007-495c48e6-96d6-4650-aa65-3c36a3516ddd.c000.snappy.parquet')\ns3.ObjectSummary(bucket_name='amazon-reviews-pds', key='parquet/product_category=Sports/part-00008-495c48e6-96d6-4650-aa65-3c36a3516ddd.c000.snappy.parquet')\ns3.ObjectSummary(bucket_name='amazon-reviews-pds', key='parquet/product_category=Sports/part-00009-495c48e6-96d6-4650-aa65-3c36a3516ddd.c000.snappy.parquet')\ns3.ObjectSummary(bucket_name='amazon-reviews-pds', key='parquet/product_category=Tools/part-00000-495c48e6-96d6-4650-aa65-3c36a3516ddd.c000.snappy.parquet')\ns3.ObjectSummary(bucket_name='amazon-reviews-pds', key='parquet/product_category=Tools/part-00001-495c48e6-96d6-4650-aa65-3c36a3516ddd.c000.snappy.parquet')\ns3.ObjectSummary(bucket_name='amazon-reviews-pds', key='parquet/product_category=Tools/part-00002-495c48e6-96d6-4650-aa65-3c36a3516ddd.c000.snappy.parquet')\ns3.ObjectSummary(bucket_name='amazon-reviews-pds', key='parquet/product_category=Tools/part-00003-495c48e6-96d6-4650-aa65-3c36a3516ddd.c000.snappy.parquet')\ns3.ObjectSummary(bucket_name='amazon-reviews-pds', key='parquet/product_category=Tools/part-00004-495c48e6-96d6-4650-aa65-3c36a3516ddd.c000.snappy.parquet')\ns3.ObjectSummary(bucket_name='amazon-reviews-pds', key='parquet/product_category=Tools/part-00005-495c48e6-96d6-4650-aa65-3c36a3516ddd.c000.snappy.parquet')\ns3.ObjectSummary(bucket_name='amazon-reviews-pds', key='parquet/product_category=Tools/part-00006-495c48e6-96d6-4650-aa65-3c36a3516ddd.c000.snappy.parquet')\ns3.ObjectSummary(bucket_name='amazon-reviews-pds', key='parquet/product_category=Tools/part-00007-495c48e6-96d6-4650-aa65-3c36a3516ddd.c000.snappy.parquet')\ns3.ObjectSummary(bucket_name='amazon-reviews-pds', key='parquet/product_category=Tools/part-00008-495c48e6-96d6-4650-aa65-3c36a3516ddd.c000.snappy.parquet')\ns3.ObjectSummary(bucket_name='amazon-reviews-pds', key='parquet/product_category=Tools/part-00009-495c48e6-96d6-4650-aa65-3c36a3516ddd.c000.snappy.parquet')\ns3.ObjectSummary(bucket_name='amazon-reviews-pds', key='parquet/product_category=Toys/part-00000-495c48e6-96d6-4650-aa65-3c36a3516ddd.c000.snappy.parquet')\ns3.ObjectSummary(bucket_name='amazon-reviews-pds', key='parquet/product_category=Toys/part-00001-495c48e6-96d6-4650-aa65-3c36a3516ddd.c000.snappy.parquet')\ns3.ObjectSummary(bucket_name='amazon-reviews-pds', key='parquet/product_category=Toys/part-00002-495c48e6-96d6-4650-aa65-3c36a3516ddd.c000.snappy.parquet')\ns3.ObjectSummary(bucket_name='amazon-reviews-pds', key='parquet/product_category=Toys/part-00003-495c48e6-96d6-4650-aa65-3c36a3516ddd.c000.snappy.parquet')\ns3.ObjectSummary(bucket_name='amazon-reviews-pds', key='parquet/product_category=Toys/part-00004-495c48e6-96d6-4650-aa65-3c36a3516ddd.c000.snappy.parquet')\ns3.ObjectSummary(bucket_name='amazon-reviews-pds', key='parquet/product_category=Toys/part-00005-495c48e6-96d6-4650-aa65-3c36a3516ddd.c000.snappy.parquet')\ns3.ObjectSummary(bucket_name='amazon-reviews-pds', key='parquet/product_category=Toys/part-00006-495c48e6-96d6-4650-aa65-3c36a3516ddd.c000.snappy.parquet')\ns3.ObjectSummary(bucket_name='amazon-reviews-pds', key='parquet/product_category=Toys/part-00007-495c48e6-96d6-4650-aa65-3c36a3516ddd.c000.snappy.parquet')\ns3.ObjectSummary(bucket_name='amazon-reviews-pds', key='parquet/product_category=Toys/part-00008-495c48e6-96d6-4650-aa65-3c36a3516ddd.c000.snappy.parquet')\ns3.ObjectSummary(bucket_name='amazon-reviews-pds', key='parquet/product_category=Toys/part-00009-495c48e6-96d6-4650-aa65-3c36a3516ddd.c000.snappy.parquet')\ns3.ObjectSummary(bucket_name='amazon-reviews-pds', key='parquet/product_category=Video/part-00000-495c48e6-96d6-4650-aa65-3c36a3516ddd.c000.snappy.parquet')\ns3.ObjectSummary(bucket_name='amazon-reviews-pds', key='parquet/product_category=Video/part-00001-495c48e6-96d6-4650-aa65-3c36a3516ddd.c000.snappy.parquet')\ns3.ObjectSummary(bucket_name='amazon-reviews-pds', key='parquet/product_category=Video/part-00002-495c48e6-96d6-4650-aa65-3c36a3516ddd.c000.snappy.parquet')\ns3.ObjectSummary(bucket_name='amazon-reviews-pds', key='parquet/product_category=Video/part-00003-495c48e6-96d6-4650-aa65-3c36a3516ddd.c000.snappy.parquet')\ns3.ObjectSummary(bucket_name='amazon-reviews-pds', key='parquet/product_category=Video/part-00004-495c48e6-96d6-4650-aa65-3c36a3516ddd.c000.snappy.parquet')\ns3.ObjectSummary(bucket_name='amazon-reviews-pds', key='parquet/product_category=Video/part-00005-495c48e6-96d6-4650-aa65-3c36a3516ddd.c000.snappy.parquet')\ns3.ObjectSummary(bucket_name='amazon-reviews-pds', key='parquet/product_category=Video/part-00006-495c48e6-96d6-4650-aa65-3c36a3516ddd.c000.snappy.parquet')\ns3.ObjectSummary(bucket_name='amazon-reviews-pds', key='parquet/product_category=Video/part-00007-495c48e6-96d6-4650-aa65-3c36a3516ddd.c000.snappy.parquet')\ns3.ObjectSummary(bucket_name='amazon-reviews-pds', key='parquet/product_category=Video/part-00008-495c48e6-96d6-4650-aa65-3c36a3516ddd.c000.snappy.parquet')\ns3.ObjectSummary(bucket_name='amazon-reviews-pds', key='parquet/product_category=Video/part-00009-495c48e6-96d6-4650-aa65-3c36a3516ddd.c000.snappy.parquet')\ns3.ObjectSummary(bucket_name='amazon-reviews-pds', key='parquet/product_category=Video_DVD/part-00000-495c48e6-96d6-4650-aa65-3c36a3516ddd.c000.snappy.parquet')\ns3.ObjectSummary(bucket_name='amazon-reviews-pds', key='parquet/product_category=Video_DVD/part-00001-495c48e6-96d6-4650-aa65-3c36a3516ddd.c000.snappy.parquet')\ns3.ObjectSummary(bucket_name='amazon-reviews-pds', key='parquet/product_category=Video_DVD/part-00002-495c48e6-96d6-4650-aa65-3c36a3516ddd.c000.snappy.parquet')\ns3.ObjectSummary(bucket_name='amazon-reviews-pds', key='parquet/product_category=Video_DVD/part-00003-495c48e6-96d6-4650-aa65-3c36a3516ddd.c000.snappy.parquet')\ns3.ObjectSummary(bucket_name='amazon-reviews-pds', key='parquet/product_category=Video_DVD/part-00004-495c48e6-96d6-4650-aa65-3c36a3516ddd.c000.snappy.parquet')\ns3.ObjectSummary(bucket_name='amazon-reviews-pds', key='parquet/product_category=Video_DVD/part-00005-495c48e6-96d6-4650-aa65-3c36a3516ddd.c000.snappy.parquet')\ns3.ObjectSummary(bucket_name='amazon-reviews-pds', key='parquet/product_category=Video_DVD/part-00006-495c48e6-96d6-4650-aa65-3c36a3516ddd.c000.snappy.parquet')\ns3.ObjectSummary(bucket_name='amazon-reviews-pds', key='parquet/product_category=Video_DVD/part-00007-495c48e6-96d6-4650-aa65-3c36a3516ddd.c000.snappy.parquet')\ns3.ObjectSummary(bucket_name='amazon-reviews-pds', key='parquet/product_category=Video_DVD/part-00008-495c48e6-96d6-4650-aa65-3c36a3516ddd.c000.snappy.parquet')\ns3.ObjectSummary(bucket_name='amazon-reviews-pds', key='parquet/product_category=Video_DVD/part-00009-495c48e6-96d6-4650-aa65-3c36a3516ddd.c000.snappy.parquet')\ns3.ObjectSummary(bucket_name='amazon-reviews-pds', key='parquet/product_category=Video_Games/part-00000-495c48e6-96d6-4650-aa65-3c36a3516ddd.c000.snappy.parquet')\ns3.ObjectSummary(bucket_name='amazon-reviews-pds', key='parquet/product_category=Video_Games/part-00001-495c48e6-96d6-4650-aa65-3c36a3516ddd.c000.snappy.parquet')\ns3.ObjectSummary(bucket_name='amazon-reviews-pds', key='parquet/product_category=Video_Games/part-00002-495c48e6-96d6-4650-aa65-3c36a3516ddd.c000.snappy.parquet')\ns3.ObjectSummary(bucket_name='amazon-reviews-pds', key='parquet/product_category=Video_Games/part-00003-495c48e6-96d6-4650-aa65-3c36a3516ddd.c000.snappy.parquet')\ns3.ObjectSummary(bucket_name='amazon-reviews-pds', key='parquet/product_category=Video_Games/part-00004-495c48e6-96d6-4650-aa65-3c36a3516ddd.c000.snappy.parquet')\ns3.ObjectSummary(bucket_name='amazon-reviews-pds', key='parquet/product_category=Video_Games/part-00005-495c48e6-96d6-4650-aa65-3c36a3516ddd.c000.snappy.parquet')\ns3.ObjectSummary(bucket_name='amazon-reviews-pds', key='parquet/product_category=Video_Games/part-00006-495c48e6-96d6-4650-aa65-3c36a3516ddd.c000.snappy.parquet')\ns3.ObjectSummary(bucket_name='amazon-reviews-pds', key='parquet/product_category=Video_Games/part-00007-495c48e6-96d6-4650-aa65-3c36a3516ddd.c000.snappy.parquet')\ns3.ObjectSummary(bucket_name='amazon-reviews-pds', key='parquet/product_category=Video_Games/part-00008-495c48e6-96d6-4650-aa65-3c36a3516ddd.c000.snappy.parquet')\ns3.ObjectSummary(bucket_name='amazon-reviews-pds', key='parquet/product_category=Video_Games/part-00009-495c48e6-96d6-4650-aa65-3c36a3516ddd.c000.snappy.parquet')\ns3.ObjectSummary(bucket_name='amazon-reviews-pds', key='parquet/product_category=Watches/part-00000-495c48e6-96d6-4650-aa65-3c36a3516ddd.c000.snappy.parquet')\ns3.ObjectSummary(bucket_name='amazon-reviews-pds', key='parquet/product_category=Watches/part-00001-495c48e6-96d6-4650-aa65-3c36a3516ddd.c000.snappy.parquet')\ns3.ObjectSummary(bucket_name='amazon-reviews-pds', key='parquet/product_category=Watches/part-00002-495c48e6-96d6-4650-aa65-3c36a3516ddd.c000.snappy.parquet')\ns3.ObjectSummary(bucket_name='amazon-reviews-pds', key='parquet/product_category=Watches/part-00003-495c48e6-96d6-4650-aa65-3c36a3516ddd.c000.snappy.parquet')\ns3.ObjectSummary(bucket_name='amazon-reviews-pds', key='parquet/product_category=Watches/part-00004-495c48e6-96d6-4650-aa65-3c36a3516ddd.c000.snappy.parquet')\ns3.ObjectSummary(bucket_name='amazon-reviews-pds', key='parquet/product_category=Watches/part-00005-495c48e6-96d6-4650-aa65-3c36a3516ddd.c000.snappy.parquet')\ns3.ObjectSummary(bucket_name='amazon-reviews-pds', key='parquet/product_category=Watches/part-00006-495c48e6-96d6-4650-aa65-3c36a3516ddd.c000.snappy.parquet')\ns3.ObjectSummary(bucket_name='amazon-reviews-pds', key='parquet/product_category=Watches/part-00007-495c48e6-96d6-4650-aa65-3c36a3516ddd.c000.snappy.parquet')\ns3.ObjectSummary(bucket_name='amazon-reviews-pds', key='parquet/product_category=Watches/part-00008-495c48e6-96d6-4650-aa65-3c36a3516ddd.c000.snappy.parquet')\ns3.ObjectSummary(bucket_name='amazon-reviews-pds', key='parquet/product_category=Watches/part-00009-495c48e6-96d6-4650-aa65-3c36a3516ddd.c000.snappy.parquet')\ns3.ObjectSummary(bucket_name='amazon-reviews-pds', key='parquet/product_category=Wireless/part-00000-495c48e6-96d6-4650-aa65-3c36a3516ddd.c000.snappy.parquet')\ns3.ObjectSummary(bucket_name='amazon-reviews-pds', key='parquet/product_category=Wireless/part-00001-495c48e6-96d6-4650-aa65-3c36a3516ddd.c000.snappy.parquet')\ns3.ObjectSummary(bucket_name='amazon-reviews-pds', key='parquet/product_category=Wireless/part-00002-495c48e6-96d6-4650-aa65-3c36a3516ddd.c000.snappy.parquet')\ns3.ObjectSummary(bucket_name='amazon-reviews-pds', key='parquet/product_category=Wireless/part-00003-495c48e6-96d6-4650-aa65-3c36a3516ddd.c000.snappy.parquet')\ns3.ObjectSummary(bucket_name='amazon-reviews-pds', key='parquet/product_category=Wireless/part-00004-495c48e6-96d6-4650-aa65-3c36a3516ddd.c000.snappy.parquet')\ns3.ObjectSummary(bucket_name='amazon-reviews-pds', key='parquet/product_category=Wireless/part-00005-495c48e6-96d6-4650-aa65-3c36a3516ddd.c000.snappy.parquet')\ns3.ObjectSummary(bucket_name='amazon-reviews-pds', key='parquet/product_category=Wireless/part-00006-495c48e6-96d6-4650-aa65-3c36a3516ddd.c000.snappy.parquet')\ns3.ObjectSummary(bucket_name='amazon-reviews-pds', key='parquet/product_category=Wireless/part-00007-495c48e6-96d6-4650-aa65-3c36a3516ddd.c000.snappy.parquet')\ns3.ObjectSummary(bucket_name='amazon-reviews-pds', key='parquet/product_category=Wireless/part-00008-495c48e6-96d6-4650-aa65-3c36a3516ddd.c000.snappy.parquet')\ns3.ObjectSummary(bucket_name='amazon-reviews-pds', key='parquet/product_category=Wireless/part-00009-495c48e6-96d6-4650-aa65-3c36a3516ddd.c000.snappy.parquet')\n"
    }
   ],
   "source": [
    "input_path = 'amazon-reviews-pds'\n",
    "sampleDbBucket =  s3.Bucket(input_path)\n",
    "for obj in sampleDbBucket.objects.filter(Prefix=\"parquet\"):\n",
    "    print(obj)"
   ]
  },
  {
   "cell_type": "markdown",
   "metadata": {},
   "source": [
    "## STEP 1: IAM ROLE\n",
    "- Create an IAM Role that makes Redshift able to access S3 bucket (ReadOnly)"
   ]
  },
  {
   "cell_type": "code",
   "execution_count": 38,
   "metadata": {},
   "outputs": [
    {
     "output_type": "stream",
     "name": "stdout",
     "text": "1.1 Creating a new IAM Role\nAn error occurred (EntityAlreadyExists) when calling the CreateRole operation: Role with name dwhRole already exists.\n1.2 Attaching Policy\n1.3 Get the IAM role ARN\narn:aws:iam::293408958101:role/dwhRole\n"
    }
   ],
   "source": [
    "from botocore.exceptions import ClientError\n",
    "\n",
    "#1.1 Create the role, \n",
    "try:\n",
    "    print(\"1.1 Creating a new IAM Role\") \n",
    "    dwhRole = iam.create_role(\n",
    "        Path='/',\n",
    "        RoleName=DWH_IAM_ROLE_NAME,\n",
    "        Description = \"Allows Redshift clusters to call AWS services on your behalf.\",\n",
    "        AssumeRolePolicyDocument=json.dumps(\n",
    "            {'Statement': [\n",
    "                            {'Action': 'sts:AssumeRole'\n",
    "                            , 'Effect': 'Allow'\n",
    "                            , 'Principal': {'Service': 'redshift.amazonaws.com'}\n",
    "                            }\n",
    "                        ]\n",
    "                        , 'Version': '2020-06-01'}\n",
    "        )\n",
    "    )    \n",
    "except Exception as e:\n",
    "    print(e)\n",
    "    \n",
    "    \n",
    "print(\"1.2 Attaching Policy\")\n",
    "\n",
    "iam.attach_role_policy(RoleName=DWH_IAM_ROLE_NAME\n",
    "                        , PolicyArn=\"arn:aws:iam::aws:policy/AmazonS3ReadOnlyAccess\"\n",
    "                      )['ResponseMetadata']['HTTPStatusCode']\n",
    "\n",
    "print(\"1.3 Get the IAM role ARN\")\n",
    "roleArn = iam.get_role(RoleName=DWH_IAM_ROLE_NAME)['Role']['Arn']\n",
    "\n",
    "print(roleArn)"
   ]
  },
  {
   "cell_type": "markdown",
   "metadata": {},
   "source": [
    "Read the Data WareHouse configuration details to create a Redshift Cluster"
   ]
  },
  {
   "cell_type": "markdown",
   "metadata": {},
   "source": [
    "Create clients for EC2, S3, IAM, and RedShift"
   ]
  },
  {
   "cell_type": "markdown",
   "metadata": {},
   "source": [
    "Create a local Spark session"
   ]
  }
 ],
 "metadata": {
  "language_info": {
   "codemirror_mode": {
    "name": "ipython",
    "version": 3
   },
   "file_extension": ".py",
   "mimetype": "text/x-python",
   "name": "python",
   "nbconvert_exporter": "python",
   "pygments_lexer": "ipython3",
   "version": "3.7.7-final"
  },
  "orig_nbformat": 2,
  "kernelspec": {
   "name": "python3",
   "display_name": "Python 3"
  }
 },
 "nbformat": 4,
 "nbformat_minor": 2
}