{
 "cells": [
  {
   "cell_type": "markdown",
   "metadata": {},
   "source": [
    "Import libraries"
   ]
  },
  {
   "cell_type": "code",
   "execution_count": 2,
   "metadata": {},
   "outputs": [],
   "source": [
    "import pandas as pd\n",
    "import boto3\n",
    "import json\n",
    "import psycopg2\n",
    "import configparser"
   ]
  },
  {
   "cell_type": "markdown",
   "metadata": {},
   "source": [
    "## STEP 0: Make sure you have an AWS secret and access key\n",
    "\n",
    "- Create a new IAM user in your AWS account\n",
    "- Give it `AdministratorAccess`, From `Attach existing policies directly` Tab\n",
    "- Take note of the access key and secret \n",
    "- Create the below file `aws.cfg` in the same folder as this notebook and fill the [AWS] section.\n",
    "\n",
    "\n",
    "        # Filename:  aws.cfg\n",
    "        [AWS]\n",
    "        KEY=[YOUR_AWS_KEY ]\n",
    "        SECRET=[YOUR_AWS_SECRET]\n",
    "        REGION=[YOUR REGION]\n",
    "\n",
    "        [DWH] \n",
    "        DWH_CLUSTER_TYPE=multi-node\n",
    "        DWH_NUM_NODES=4\n",
    "        DWH_NODE_TYPE=dc2.large\n",
    "\n",
    "        DWH_IAM_ROLE_NAME=dwhRole\n",
    "        DWH_CLUSTER_IDENTIFIER=dwhCluster\n",
    "        DWH_DB=dwh\n",
    "        DWH_DB_USER=dwhuser\n",
    "        DWH_DB_PASSWORD=Passw0rd\n",
    "        DWH_PORT=5439\n",
    "\n",
    "        [CLUSTER]\n",
    "        # HOST=dwhcluster.cauecn2rh1z6.us-east-1.redshift.amazonaws.com\n",
    "        HOST=dwhcluster.cchtxpodhmfa.us-west-2.redshift.amazonaws.com\n",
    "        DB_NAME=dwh\n",
    "        DB_USER=dwhuser\n",
    "        DB_PASSWORD=Passw0rd\n",
    "        DB_PORT=5439\n",
    "\n",
    "        [IAM_ROLE]\n",
    "        ARN=[REDACTED]\n",
    "\n",
    "        [S3]\n",
    "        LOG_DATA='s3://udacity-dend/log_data'\n",
    "        LOG_JSONPATH='s3://udacity-dend/log_json_path.json'\n",
    "        # fails on east cluster\n",
    "        SONG_DATA='s3://udacity-dend/song-data'\n",
    "        # use for testing\n",
    "        # (56 sec, east; 23.6 west) \n",
    "        # SONG_DATA='s3://udacity-dend/song-data/A/A/'\n",
    "        # (1379.746524 sec, east; 265.13, west) \n",
    "        # SONG_DATA='s3://udacity-dend/song-data/A/'\n",
    "\n",
    "        [PARSE]\n",
    "        # Set to 1 to parse files first and identify errors; 0 to process records\n",
    "        VALUE=0\n"
   ]
  },
  {
   "cell_type": "code",
   "execution_count": null,
   "metadata": {},
   "outputs": [],
   "source": [
    "## Load DWH Params from file"
   ]
  },
  {
   "cell_type": "code",
   "execution_count": 13,
   "metadata": {},
   "outputs": [
    {
     "output_type": "stream",
     "name": "stdout",
     "text": "us-west-2\n"
    }
   ],
   "source": [
    "config = configparser.ConfigParser()\n",
    "config.read_file(open('aws.cfg'))\n",
    "\n",
    "KEY                    = config.get('AWS','KEY')\n",
    "SECRET                 = config.get('AWS','SECRET')\n",
    "REGION                 = config.get('AWS','REGION')\n",
    "\n",
    "DWH_CLUSTER_TYPE       = config.get(\"DWH\",\"DWH_CLUSTER_TYPE\")\n",
    "DWH_NUM_NODES          = config.get(\"DWH\",\"DWH_NUM_NODES\")\n",
    "DWH_NODE_TYPE          = config.get(\"DWH\",\"DWH_NODE_TYPE\")\n",
    "\n",
    "DWH_CLUSTER_IDENTIFIER = config.get(\"DWH\",\"DWH_CLUSTER_IDENTIFIER\")\n",
    "DWH_DB                 = config.get(\"DWH\",\"DWH_DB\")\n",
    "DWH_DB_USER            = config.get(\"DWH\",\"DWH_DB_USER\")\n",
    "DWH_DB_PASSWORD        = config.get(\"DWH\",\"DWH_DB_PASSWORD\")\n",
    "DWH_PORT               = config.get(\"DWH\",\"DWH_PORT\")\n",
    "\n",
    "DWH_IAM_ROLE_NAME      = config.get(\"DWH\", \"DWH_IAM_ROLE_NAME\")\n",
    "\n",
    "(DWH_DB_USER, DWH_DB_PASSWORD, DWH_DB)\n",
    "\n",
    "pd.DataFrame({\"Param\":\n",
    "                  [\"DWH_CLUSTER_TYPE\"\n",
    "                  , \"DWH_NUM_NODES\"\n",
    "                  , \"DWH_NODE_TYPE\"\n",
    "                  , \"DWH_CLUSTER_IDENTIFIER\"\n",
    "                  , \"DWH_DB\"\n",
    "                  , \"DWH_DB_USER\"\n",
    "                  , \"DWH_DB_PASSWORD\"\n",
    "                  , \"DWH_PORT\"\n",
    "                  , \"DWH_IAM_ROLE_NAME\"]\n",
    "                  , \"Value\": \n",
    "                    [DWH_CLUSTER_TYPE\n",
    "                    , DWH_NUM_NODES\n",
    "                    , DWH_NODE_TYPE\n",
    "                    , DWH_CLUSTER_IDENTIFIER\n",
    "                    , DWH_DB\n",
    "                    , DWH_DB_USER\n",
    "                    , DWH_DB_PASSWORD\n",
    "                    , DWH_PORT\n",
    "                    , DWH_IAM_ROLE_NAME]\n",
    "             })\n",
    "\n",
    "print(REGION)"
   ]
  },
  {
   "cell_type": "markdown",
   "metadata": {},
   "source": [
    "## Create clients for IAM, EC2, S3 and Redshift"
   ]
  },
  {
   "cell_type": "code",
   "execution_count": 14,
   "metadata": {},
   "outputs": [],
   "source": [
    "s3 = boto3.resource('s3'\n",
    "                        , region_name=REGION\n",
    "                        , aws_access_key_id=KEY\n",
    "                        , aws_secret_access_key=SECRET\n",
    "                   )\n",
    "\n",
    "ec2 = boto3.resource('ec2'\n",
    "                        , region_name=REGION\n",
    "                        , aws_access_key_id=KEY\n",
    "                        , aws_secret_access_key=SECRET\n",
    "                    )\n",
    "\n",
    "iam = boto3.client('iam'\n",
    "                        ,aws_access_key_id=KEY\n",
    "                        , aws_secret_access_key=SECRET\n",
    "                        , region_name=REGION\n",
    "                  )\n",
    "\n",
    "redshift = boto3.client('redshift'\n",
    "                        , region_name=REGION\n",
    "                        , aws_access_key_id=KEY\n",
    "                        , aws_secret_access_key=SECRET\n",
    "                       )"
   ]
  },
  {
   "cell_type": "code",
   "execution_count": 16,
   "metadata": {},
   "outputs": [],
   "source": [
    "## Check out sample data sources on S3"
   ]
  },
  {
   "cell_type": "code",
   "execution_count": 17,
   "metadata": {},
   "outputs": [
    {
     "output_type": "stream",
     "name": "stdout",
     "text": "s3.ObjectSummary(bucket_name='awssampledbuswest2', key='ssbgz/')\ns3.ObjectSummary(bucket_name='awssampledbuswest2', key='ssbgz/customer0002_part_00.gz')\ns3.ObjectSummary(bucket_name='awssampledbuswest2', key='ssbgz/dwdate.tbl.gz')\ns3.ObjectSummary(bucket_name='awssampledbuswest2', key='ssbgz/lineorder0000_part_00.gz')\ns3.ObjectSummary(bucket_name='awssampledbuswest2', key='ssbgz/lineorder0001_part_00.gz')\ns3.ObjectSummary(bucket_name='awssampledbuswest2', key='ssbgz/lineorder0002_part_00.gz')\ns3.ObjectSummary(bucket_name='awssampledbuswest2', key='ssbgz/lineorder0003_part_00.gz')\ns3.ObjectSummary(bucket_name='awssampledbuswest2', key='ssbgz/lineorder0004_part_00.gz')\ns3.ObjectSummary(bucket_name='awssampledbuswest2', key='ssbgz/lineorder0005_part_00.gz')\ns3.ObjectSummary(bucket_name='awssampledbuswest2', key='ssbgz/lineorder0006_part_00.gz')\ns3.ObjectSummary(bucket_name='awssampledbuswest2', key='ssbgz/lineorder0007_part_00.gz')\ns3.ObjectSummary(bucket_name='awssampledbuswest2', key='ssbgz/part0000_part_00.gz')\ns3.ObjectSummary(bucket_name='awssampledbuswest2', key='ssbgz/part0001_part_00.gz')\ns3.ObjectSummary(bucket_name='awssampledbuswest2', key='ssbgz/part0002_part_00.gz')\ns3.ObjectSummary(bucket_name='awssampledbuswest2', key='ssbgz/part0003_part_00.gz')\ns3.ObjectSummary(bucket_name='awssampledbuswest2', key='ssbgz/supplier.tbl_0000_part_00.gz')\ns3.ObjectSummary(bucket_name='awssampledbuswest2', key='ssbgz/supplier0001_part_00.gz')\ns3.ObjectSummary(bucket_name='awssampledbuswest2', key='ssbgz/supplier0002_part_00.gz')\ns3.ObjectSummary(bucket_name='awssampledbuswest2', key='ssbgz/supplier0003_part_00.gz')\n"
    }
   ],
   "source": [
    "sampleDbBucket =  s3.Bucket(\"awssampledbuswest2\")\n",
    "for obj in sampleDbBucket.objects.filter(Prefix=\"ssbgz\"):\n",
    "    print(obj)"
   ]
  },
  {
   "cell_type": "markdown",
   "metadata": {},
   "source": [
    "Read the Data WareHouse configuration details to create a Redshift Cluster"
   ]
  },
  {
   "cell_type": "markdown",
   "metadata": {},
   "source": [
    "Create clients for EC2, S3, IAM, and RedShift"
   ]
  },
  {
   "cell_type": "markdown",
   "metadata": {},
   "source": [
    "Create a local Spark session"
   ]
  }
 ],
 "metadata": {
  "language_info": {
   "codemirror_mode": {
    "name": "ipython",
    "version": 3
   },
   "file_extension": ".py",
   "mimetype": "text/x-python",
   "name": "python",
   "nbconvert_exporter": "python",
   "pygments_lexer": "ipython3",
   "version": "3.7.7-final"
  },
  "orig_nbformat": 2,
  "kernelspec": {
   "name": "python3",
   "display_name": "Python 3"
  }
 },
 "nbformat": 4,
 "nbformat_minor": 2
}